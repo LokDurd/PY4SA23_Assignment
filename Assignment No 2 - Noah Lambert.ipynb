{
 "cells": [
  {
   "cell_type": "markdown",
   "id": "1016136c-2adc-45fe-927e-03d7dd87faea",
   "metadata": {},
   "source": [
    "Lab Assignment 2 - Noah Lambert\n",
    "\n",
    "Student ID: 200020338\n",
    "\n",
    "Repository URL: https://github.com/LokDurd/PY4SA23_Assignment"
   ]
  },
  {
   "cell_type": "markdown",
   "id": "66d6f34c-55c7-4eb7-ae12-11082075c3c6",
   "metadata": {},
   "source": [
    "Part 1 - Python Basics"
   ]
  },
  {
   "cell_type": "code",
   "execution_count": 33,
   "id": "898b6179-ea96-4028-a00e-9184f3320581",
   "metadata": {},
   "outputs": [
    {
     "name": "stdout",
     "output_type": "stream",
     "text": [
      "7 is not divisible by 3.\n"
     ]
    }
   ],
   "source": [
    "import numpy as np\n",
    "import pandas as pd\n",
    "\n",
    "#Task 1\n",
    "\n",
    "x = 7\n",
    "\n",
    "if x%3==0:\n",
    "    print(str(x) + \" is divisible by 3.\") \n",
    "else: \n",
    "    print(str(x) + \" is not divisible by 3.\")"
   ]
  },
  {
   "cell_type": "code",
   "execution_count": 40,
   "id": "3730ad81-8cf5-406b-be87-addd8a14ed40",
   "metadata": {},
   "outputs": [
    {
     "name": "stdout",
     "output_type": "stream",
     "text": [
      "strawberry is acceptable.\n"
     ]
    }
   ],
   "source": [
    "#Task 2\n",
    "fruit_list = ['apple','orange','pear','kiwi','strawberry']\n",
    "my_fruit = 'strawberry'\n",
    "if fruit_list.count(my_fruit) > 0:\n",
    "    print(str(my_fruit) + \" is acceptable.\")\n",
    "else:\n",
    "    print(str(my_fruit) + \" is not acceptable.\")"
   ]
  }
 ],
 "metadata": {
  "kernelspec": {
   "display_name": "Python 3 (ipykernel)",
   "language": "python",
   "name": "python3"
  },
  "language_info": {
   "codemirror_mode": {
    "name": "ipython",
    "version": 3
   },
   "file_extension": ".py",
   "mimetype": "text/x-python",
   "name": "python",
   "nbconvert_exporter": "python",
   "pygments_lexer": "ipython3",
   "version": "3.10.9"
  }
 },
 "nbformat": 4,
 "nbformat_minor": 5
}
